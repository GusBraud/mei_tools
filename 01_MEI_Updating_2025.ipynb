{
 "cells": [
  {
   "cell_type": "markdown",
   "id": "808e49d7-dd99-4a15-91f0-97928231de96",
   "metadata": {},
   "source": [
    "# Updating MEI Files with Python\n",
    "\n",
    "This Notebook will help you run two sets of functions that help us with MEI files for various projects.\n",
    "\n",
    "The functions are part of a Python package called mei_tools that you can install:\n",
    "\n",
    "`pip install pip install git+\n",
    "\n",
    "The **\"MEI_Metadata_Updater\"** takes in a series of MEI files from a local folder, along with various metadata elements stored in a spreadsheet (Google sheets work well for this since they can be shared directly from Gdrive to the notebook).  With each 'mei file' and 'metadata dictionary' pair we update various header fields in the MEI file, including title, composer, data, editors, sources, and rights.\n",
    "\n",
    "The **MEI_Music_Feature_Processor** helps us with various sorts of endcoding issues that often occur in the production of MEI files. These include the correction of editorial accidentals, removal of incipits, removal of variant readings, and various other features. They be run individually, or together.  And we can extend them as needed with new modules.\n",
    "\n"
   ]
  },
  {
   "cell_type": "markdown",
   "id": "44802602-2edc-44c6-b629-be506466cc46",
   "metadata": {},
   "source": [
    "## 1. Metadata Updater\n",
    "\n",
    "Here is how to run the metadata updater.  \n",
    "\n",
    "### 1a. First load the relevant libraries.  \n",
    "\n",
    "Note that you will also need to install the `mei_tools` as noted above!\n",
    "\n",
    "```python\n",
    "# import libraries and out updaters\n",
    "from mei_tools import MEI_Metadata_Updater\n",
    "from mei_tools import MEI_Music_Feature_Processor\n",
    "import glob\n",
    "import os\n",
    "import pandas as pd\n",
    "```\n"
   ]
  },
  {
   "cell_type": "code",
   "execution_count": 1,
   "id": "2795f51e-36ec-4781-8950-d67c87f8c2b0",
   "metadata": {
    "execution": {
     "iopub.execute_input": "2025-03-11T14:54:42.564796Z",
     "iopub.status.busy": "2025-03-11T14:54:42.564465Z",
     "iopub.status.idle": "2025-03-11T14:54:42.973357Z",
     "shell.execute_reply": "2025-03-11T14:54:42.973083Z",
     "shell.execute_reply.started": "2025-03-11T14:54:42.564777Z"
    }
   },
   "outputs": [],
   "source": [
    "from mei_tools import MEI_Metadata_Updater\n",
    "from mei_tools import MEI_Music_Feature_Processor\n",
    "import glob\n",
    "import os\n",
    "import pandas as pd"
   ]
  },
  {
   "cell_type": "markdown",
   "id": "9b34e5b5-b3da-4a41-8220-484fdd7a706a",
   "metadata": {},
   "source": [
    "#### 1b. Now, create an instance of the processor.  \n",
    "\n",
    "\n",
    "```python\n",
    "metadata_updater = MEI_Metadata_Updater()\n",
    "```\n",
    "\n",
    "\n",
    "- Optionally you can use `dir(metadata_updater)` to see all the available methods.  In fact there is only one that interests us:  `apply_metadata`"
   ]
  },
  {
   "cell_type": "code",
   "execution_count": 2,
   "id": "34f71447-263b-4113-aee8-5e723d1e7c41",
   "metadata": {
    "execution": {
     "iopub.execute_input": "2025-03-11T14:54:44.416267Z",
     "iopub.status.busy": "2025-03-11T14:54:44.415482Z",
     "iopub.status.idle": "2025-03-11T14:54:44.424344Z",
     "shell.execute_reply": "2025-03-11T14:54:44.422614Z",
     "shell.execute_reply.started": "2025-03-11T14:54:44.416240Z"
    }
   },
   "outputs": [],
   "source": [
    "metadata_updater = MEI_Metadata_Updater()\n",
    "# dir(metadata_updater)"
   ]
  },
  {
   "cell_type": "markdown",
   "id": "8f6861ff-b46b-4e20-9673-c48644e806f5",
   "metadata": {},
   "source": [
    "### 1c. Load the metadata as a list of Python dictionaries"
   ]
  },
  {
   "cell_type": "code",
   "execution_count": 19,
   "id": "02cb032a-c9b6-4c0c-906a-48126878383c",
   "metadata": {
    "execution": {
     "iopub.execute_input": "2025-03-11T15:04:26.990388Z",
     "iopub.status.busy": "2025-03-11T15:04:26.989448Z",
     "iopub.status.idle": "2025-03-11T15:04:31.341695Z",
     "shell.execute_reply": "2025-03-11T15:04:31.341279Z",
     "shell.execute_reply.started": "2025-03-11T15:04:26.990361Z"
    }
   },
   "outputs": [],
   "source": [
    "# the metadata; load as df, then dict\n",
    "metadata = 'https://docs.google.com/spreadsheets/d/e/2PACX-1vTSspBYGhjx-UJb-lIcy8Dmxjj3c1EuBqX_IWhi2aT1MvybZ_RAn8eq7gXfjzQ_NEfEq2hCZY5y-sHx/pub?output=csv'\n",
    "df = pd.read_csv(metadata).fillna('')\n",
    "\n",
    "# Convert the DataFrame to a dictionary\n",
    "metadata_dicts = df.to_dict(orient='records')"
   ]
  },
  {
   "cell_type": "raw",
   "id": "2aa60ffc-524c-4d2c-85eb-f083166e17cc",
   "metadata": {
    "execution": {
     "iopub.execute_input": "2025-03-11T14:45:46.081511Z",
     "iopub.status.busy": "2025-03-11T14:45:46.080927Z",
     "iopub.status.idle": "2025-03-11T14:45:46.092111Z",
     "shell.execute_reply": "2025-03-11T14:45:46.091176Z",
     "shell.execute_reply.started": "2025-03-11T14:45:46.081483Z"
    }
   },
   "source": [
    "### 1d. Make a list of local MEI files"
   ]
  },
  {
   "cell_type": "code",
   "execution_count": 20,
   "id": "70a40955-7a5a-4865-a808-89a8f1455e0d",
   "metadata": {
    "execution": {
     "iopub.execute_input": "2025-03-11T15:04:31.342508Z",
     "iopub.status.busy": "2025-03-11T15:04:31.342395Z",
     "iopub.status.idle": "2025-03-11T15:04:31.345262Z",
     "shell.execute_reply": "2025-03-11T15:04:31.344984Z",
     "shell.execute_reply.started": "2025-03-11T15:04:31.342493Z"
    }
   },
   "outputs": [
    {
     "data": {
      "text/plain": [
       "['MEI_raw/CRIM_Model_0011.mei']"
      ]
     },
     "execution_count": 20,
     "metadata": {},
     "output_type": "execute_result"
    }
   ],
   "source": [
    "# a list of mei files\n",
    "mei_paths = glob.glob('MEI_raw/*')\n",
    "mei_paths"
   ]
  },
  {
   "cell_type": "markdown",
   "id": "acac997c-c92b-46a4-a7c8-c2d154ba55e6",
   "metadata": {},
   "source": [
    "### 1e. Specify the Output Folder"
   ]
  },
  {
   "cell_type": "code",
   "execution_count": 21,
   "id": "fadb203d-1121-4ab2-bd5a-9d0bee0a591b",
   "metadata": {
    "execution": {
     "iopub.execute_input": "2025-03-11T15:04:35.538178Z",
     "iopub.status.busy": "2025-03-11T15:04:35.537678Z",
     "iopub.status.idle": "2025-03-11T15:04:35.543748Z",
     "shell.execute_reply": "2025-03-11T15:04:35.543103Z",
     "shell.execute_reply.started": "2025-03-11T15:04:35.538153Z"
    }
   },
   "outputs": [],
   "source": [
    "output_folder = 'MEI_Updates'"
   ]
  },
  {
   "cell_type": "markdown",
   "id": "a19e7754-ca99-473b-af5f-2e09e33181ae",
   "metadata": {},
   "source": [
    "### 1f. Make a list of Tuples (Pairs) of the Files and related Metadata"
   ]
  },
  {
   "cell_type": "code",
   "execution_count": 22,
   "id": "a70960af-38c6-40eb-b45b-6161433b2454",
   "metadata": {
    "execution": {
     "iopub.execute_input": "2025-03-11T15:04:36.478832Z",
     "iopub.status.busy": "2025-03-11T15:04:36.478537Z",
     "iopub.status.idle": "2025-03-11T15:04:36.484068Z",
     "shell.execute_reply": "2025-03-11T15:04:36.483012Z",
     "shell.execute_reply.started": "2025-03-11T15:04:36.478814Z"
    }
   },
   "outputs": [],
   "source": [
    "#build tuples for processor:\n",
    "pairs_to_process = []\n",
    "for mei_path in mei_paths:\n",
    "    mei_file_name = os.path.basename(mei_path)\n",
    "    matching_dict = next((item for item in metadata_dicts if item['MEI_Name'] == mei_file_name), None)\n",
    "    tup = mei_path, matching_dict\n",
    "    pairs_to_process.append(tup)\n"
   ]
  },
  {
   "cell_type": "markdown",
   "id": "cdd595c4-054e-451f-b19d-b65034f0c9e7",
   "metadata": {},
   "source": [
    "### 1g. Process the files!"
   ]
  },
  {
   "cell_type": "code",
   "execution_count": 23,
   "id": "bf92015b-382e-4724-8100-db9b23261b51",
   "metadata": {
    "execution": {
     "iopub.execute_input": "2025-03-11T15:04:37.610364Z",
     "iopub.status.busy": "2025-03-11T15:04:37.609541Z",
     "iopub.status.idle": "2025-03-11T15:04:37.666243Z",
     "shell.execute_reply": "2025-03-11T15:04:37.665912Z",
     "shell.execute_reply.started": "2025-03-11T15:04:37.610329Z"
    }
   },
   "outputs": [
    {
     "name": "stdout",
     "output_type": "stream",
     "text": [
      "Getting CRIM_Model_0011\n",
      "Saved updated CRIM_Model_0011_rev.mei\n"
     ]
    }
   ],
   "source": [
    "# Process each tuple in the list\n",
    "for mei_file_name, matching_dict in pairs_to_process:\n",
    "    metadata_updater.apply_metadata(mei_file_name, matching_dict, output_folder)"
   ]
  },
  {
   "cell_type": "markdown",
   "id": "f3e8af94-bf85-476a-83ef-07cbd541f745",
   "metadata": {},
   "source": [
    "## 2. Correcting Music Features\n",
    "\n",
    "\n",
    "### 2a. First, we create an instance of the processor:\n",
    "\n",
    "`music_feature_processor = MEI_Music_Feature_Processor()`\n",
    "\n",
    "Optionally you can also see a list of the functions within it:\n",
    "\n",
    "`dir(music_feature_processor)`\n",
    "\n",
    "We are only interested in `process_music_features`.\n",
    "\n",
    "\n"
   ]
  },
  {
   "cell_type": "code",
   "execution_count": 24,
   "id": "596986e1-17d7-43b8-8f96-457bdf019ab4",
   "metadata": {
    "execution": {
     "iopub.execute_input": "2025-03-11T15:04:44.600325Z",
     "iopub.status.busy": "2025-03-11T15:04:44.600020Z",
     "iopub.status.idle": "2025-03-11T15:04:44.605347Z",
     "shell.execute_reply": "2025-03-11T15:04:44.604266Z",
     "shell.execute_reply.started": "2025-03-11T15:04:44.600307Z"
    }
   },
   "outputs": [],
   "source": [
    "music_feature_processor = MEI_Music_Feature_Processor()\n",
    "# dir(music_feature_processor)"
   ]
  },
  {
   "cell_type": "markdown",
   "id": "1be971f3-687d-445c-acaf-1a4e6e01a581",
   "metadata": {},
   "source": [
    "### 2b. Now specify the input and ouput folders\n",
    "\n",
    "For example:\n",
    "\n",
    "```python\n",
    "mei_paths = glob.glob('MEI_Updates/*')\n",
    "output_folder = \"MEI_Final\"\n",
    "```\n"
   ]
  },
  {
   "cell_type": "code",
   "execution_count": 25,
   "id": "bdc91e8f-6154-41b0-b572-2fda34995fc0",
   "metadata": {
    "execution": {
     "iopub.execute_input": "2025-03-11T15:04:59.211152Z",
     "iopub.status.busy": "2025-03-11T15:04:59.210676Z",
     "iopub.status.idle": "2025-03-11T15:04:59.216386Z",
     "shell.execute_reply": "2025-03-11T15:04:59.215808Z",
     "shell.execute_reply.started": "2025-03-11T15:04:59.211129Z"
    }
   },
   "outputs": [],
   "source": [
    "mei_paths = glob.glob('MEI_Updates/*')\n",
    "output_folder = \"MEI_Final\""
   ]
  },
  {
   "cell_type": "code",
   "execution_count": 26,
   "id": "a95fa5cd-f5e4-4682-8325-6f1a9d6f3b59",
   "metadata": {
    "execution": {
     "iopub.execute_input": "2025-03-11T15:05:14.059661Z",
     "iopub.status.busy": "2025-03-11T15:05:14.059130Z",
     "iopub.status.idle": "2025-03-11T15:05:14.068019Z",
     "shell.execute_reply": "2025-03-11T15:05:14.067000Z",
     "shell.execute_reply.started": "2025-03-11T15:05:14.059635Z"
    }
   },
   "outputs": [
    {
     "data": {
      "text/plain": [
       "['MEI_Updates/MEI_Example_rev.mei', 'MEI_Updates/CRIM_Model_0011_rev.mei']"
      ]
     },
     "execution_count": 26,
     "metadata": {},
     "output_type": "execute_result"
    }
   ],
   "source": [
    "mei_paths"
   ]
  },
  {
   "cell_type": "markdown",
   "id": "c25be843-8726-4974-b495-97068d4ba178",
   "metadata": {},
   "source": [
    "### 2c. Process the Files\n",
    "\n",
    "Here we iterate over the list of files in the source folder and pass them to the processor.\n",
    "\n",
    "You can also use True/False to specify which functions you want to run.\n",
    "\n",
    "```python\n",
    "for mei_path in mei_paths:\n",
    "    music_feature_processor.process_music_features(mei_path,\n",
    "                                                  output_folder=\"MEI_Final\",\n",
    "                                                  remove_incipit=True,\n",
    "                                                  remove_variants=True,\n",
    "                                                  remove_anchored_text=True,\n",
    "                                                  remove_timestamp=True,\n",
    "                                                  remove_chord=True,\n",
    "                                                  remove_senfl_bracket=False,\n",
    "                                                  remove_empty_verse=False,\n",
    "                                                  remove_lyrics=False,\n",
    "                                                  fix_elisions=True,\n",
    "                                                  slur_to_tie=True,\n",
    "                                                  collapse_layers=False,\n",
    "                                                  correct_ficta=True,\n",
    "                                                  voice_labels=True)\n",
    "                                                  ```"
   ]
  },
  {
   "cell_type": "code",
   "execution_count": 27,
   "id": "7b71a347-fc87-41b5-b6a7-dab4d39fcbb6",
   "metadata": {
    "execution": {
     "iopub.execute_input": "2025-03-11T15:05:41.150436Z",
     "iopub.status.busy": "2025-03-11T15:05:41.149958Z",
     "iopub.status.idle": "2025-03-11T15:05:41.224377Z",
     "shell.execute_reply": "2025-03-11T15:05:41.224101Z",
     "shell.execute_reply.started": "2025-03-11T15:05:41.150410Z"
    }
   },
   "outputs": [
    {
     "name": "stdout",
     "output_type": "stream",
     "text": [
      "Getting MEI_Example_rev\n",
      "Measure removed successfully!\n",
      "\n",
      "Renumbering measures...\n",
      "Found 0 variants to correct.\n",
      "Checking and Removing timestamp.\n",
      "Found 0 chord elements to remove.\n",
      "Found elided syllables to correct.\n",
      "Found 1 slurs to correct as ties.\n",
      "Found 3 dir tags to remove\n",
      "Found 3 total color notes to correct as supplied.\n",
      "Found 4 staff labels to correct.\n",
      "Saved updated MEI_Example_rev_rev.mei\n",
      "Getting CRIM_Model_0011_rev\n",
      "Found 0 variants to correct.\n",
      "Checking and Removing timestamp.\n",
      "Found 0 chord elements to remove.\n",
      "Found 0 slurs to correct as ties.\n",
      "Found 0 dir tags to remove\n",
      "Found 0 total color notes to correct as supplied.\n",
      "Found 4 staff labels to correct.\n",
      "Saved updated CRIM_Model_0011_rev_rev.mei\n"
     ]
    }
   ],
   "source": [
    "\n",
    "\n",
    "# Then, call the method on the instance\n",
    "for mei_path in mei_paths:\n",
    "    music_feature_processor.process_music_features(mei_path,\n",
    "                                                  output_folder=\"MEI_Final\",\n",
    "                                                  remove_incipit=True,\n",
    "                                                  remove_variants=True,\n",
    "                                                  remove_anchored_text=True,\n",
    "                                                  remove_timestamp=True,\n",
    "                                                  remove_chord=True,\n",
    "                                                  remove_senfl_bracket=False,\n",
    "                                                  remove_empty_verse=False,\n",
    "                                                  remove_lyrics=False,\n",
    "                                                  fix_elisions=True,\n",
    "                                                  slur_to_tie=True,\n",
    "                                                  collapse_layers=False,\n",
    "                                                  correct_ficta=True,\n",
    "                                                  voice_labels=True)"
   ]
  },
  {
   "cell_type": "code",
   "execution_count": null,
   "id": "39cc67ed-f543-4b57-8ca2-42ea89921873",
   "metadata": {},
   "outputs": [],
   "source": []
  }
 ],
 "metadata": {
  "kernelspec": {
   "display_name": "Python 3 (ipykernel)",
   "language": "python",
   "name": "python3"
  },
  "language_info": {
   "codemirror_mode": {
    "name": "ipython",
    "version": 3
   },
   "file_extension": ".py",
   "mimetype": "text/x-python",
   "name": "python",
   "nbconvert_exporter": "python",
   "pygments_lexer": "ipython3",
   "version": "3.11.7"
  }
 },
 "nbformat": 4,
 "nbformat_minor": 5
}
