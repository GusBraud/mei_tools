{
 "cells": [
  {
   "cell_type": "markdown",
   "id": "37b71918-9b6c-4b12-a9ca-1b2c44acc6b5",
   "metadata": {},
   "source": [
    "# Update MEI Metadata \n",
    "\n",
    "This notebook works with `mei_metadata_processor.py`, a set of Python functions that will easily update any MEI Metadata.  \n",
    "\n",
    "The processor takes in:\n",
    "\n",
    "- A `source_folder` of MEI files to be updated.\n",
    "- A `list of metadata dictionaries` that provide the new data.  One convenient way to do this is by publishing a **[Google Sheet as CSV](https://docs.google.com/spreadsheets/d/1ctSIhNquWlacXQNLg92N_DV1H4lUJeXLn7iqKyLlhng/edit?gid=422384819#gid=422384819)**, then importing that sheet to Pandas and then converting it to a list of dictionaries (in which each row is a dictionary). Here is what one of our dictionary entries looks like.  The `keys` are the columns of our spreadsheet.  The `values` are the contents of each cell for a given row.\n",
    "\n",
    "```python\n",
    "{'CRIM_ID': 'CRIM_Model_0001',\n",
    " 'MEI_Name': 'CRIM_Model_0001.mei',\n",
    " 'Title': 'Veni speciosam',\n",
    " 'Mass Title': '',\n",
    " 'Genre': 'motet ',\n",
    " 'Composer_Name': 'Johannes Lupi',\n",
    " 'CRIM_Person_ID': 'CRIM_Person_0004',\n",
    " 'Composer_VIAF': 'http://viaf.org/viaf/42035469',\n",
    " 'Composer_BNF_ID': 'https://data.bnf.fr/ark:/12148/cb139927263',\n",
    " 'Piece_Date': ' before 1542',\n",
    " 'Source_ID': 'CRIM_Source_0003',\n",
    " 'Source_Short_Title': 'Musicae Cantiones',\n",
    " 'Source_Title': 'Chori Sacre Virginis Marie Cameracensis Magistri, Musicae Cantiones (quae vulgo motetta nuncupantur) noviter omni studio ac diligentia in lucem editae. (8, 6, 5, et 4 vocum.) Index quindecim Cantionum. Liber tertius.',\n",
    " 'Source_Publisher_1': 'Pierre Attaingnant',\n",
    " 'Publisher_1_VIAF': 'http://viaf.org/viaf/59135590',\n",
    " 'Publisher_1_BNF_ID': 'https://data.bnf.fr/ark:/12148/cb12230232k',\n",
    " 'Source_Publisher_2': '',\n",
    " 'Publisher_2_VIAF': '',\n",
    " 'Publisher_2_BNF_ID': '',\n",
    " 'Source_Date': '1542',\n",
    " 'Source_Reference': 'RISM A I, L 3089',\n",
    " 'Source_Location': 'Wien',\n",
    " 'Source_Institution': 'Österreichische Nationalbibliothek',\n",
    " 'Source_Shelfmark': 'SA.78.C.1/3/1-4 Mus 19',\n",
    " 'Editor': 'Marco Gurrieri | Bonnie Blackburn | Vincent Besson | Richard Freedman',\n",
    " 'Last_Revised': '2020_07_10',\n",
    " 'Rights_Statement': 'This work is licensed under a Creative Commons Attribution-NonCommercial 4.0 International License',\n",
    " 'Copyright_Owner': \"Centre d'Études Supérieures de la Renaissance | Haverford College | Marco Gurrieri | Bonnie Blackburn | Vincent Besson | Richard Freedman\"}\n",
    " ```\n",
    "\n",
    "The processor takes in each file in turn, then matches it against the list of dictionaries to find the one it needs.\n",
    "\n",
    "Our first step with the MEI file itself is to rebuild the `head` element.  Depending on the particular pathway used to create the MEI file (Sibelius to MEI exporter, MEI Friend, Verovio Viewer, or MuseScore) the results will be quite different.  Not all exporters create the head tags in the same way, although each is valid MEI.\n",
    "\n",
    "We rebuild the MEI to include key elements:\n",
    "\n",
    "- **fileDesc** (with information about what is contained here, including composer, title, editors, modern publisher, and rights statement)\n",
    "- **appInfo** (how we created the file, with the MEI Updater)\n",
    "- **workList** (repeating information about the composer and title of the music)\n",
    "- **manifestationList** (the details of the original source, including title, date, location)\n",
    "\n",
    "\n",
    "\n",
    "Each of these tags is being created, populated with data from the matching **metadata_dict**, and appended to the appropriate parent element in the MEI structure. Some tags are nested within others, creating a hierarchical structure for the metadata."
   ]
  },
  {
   "cell_type": "markdown",
   "id": "4cc4eff7-81ac-4ac9-86ac-297a051f71d8",
   "metadata": {},
   "source": [
    "### Import the Required Libraries\n",
    "\n",
    "This is the first step before running the processor."
   ]
  },
  {
   "cell_type": "code",
   "execution_count": 1,
   "id": "f57e3058-e360-4a82-923f-2d3b32324215",
   "metadata": {
    "execution": {
     "iopub.execute_input": "2025-02-10T14:36:03.155881Z",
     "iopub.status.busy": "2025-02-10T14:36:03.155804Z",
     "iopub.status.idle": "2025-02-10T14:36:03.629704Z",
     "shell.execute_reply": "2025-02-10T14:36:03.629453Z",
     "shell.execute_reply.started": "2025-02-10T14:36:03.155873Z"
    }
   },
   "outputs": [],
   "source": [
    "#  Import necessary libraries\n",
    "from typing import List, Dict, Optional\n",
    "from bs4 import BeautifulSoup\n",
    "from datetime import datetime\n",
    "from pathlib import Path\n",
    "import logging\n",
    "import os\n",
    "import pandas as pd\n",
    "\n",
    "# the following refers to 'mei_metadata_processor.py` file, and needs to be in the same folder as this NB\n",
    "from mei_metadata_processor import MEI_Metadata_Updater "
   ]
  },
  {
   "cell_type": "markdown",
   "id": "2f1696bb-ea89-4fc1-9469-ba281235fe92",
   "metadata": {},
   "source": [
    "### Load the Metadata from the Google Sheet; Create List of Dictionaries"
   ]
  },
  {
   "cell_type": "code",
   "execution_count": 2,
   "id": "1d21815b-13d3-4c55-945c-a8b0a7f593ab",
   "metadata": {
    "execution": {
     "iopub.execute_input": "2025-02-10T14:36:03.630176Z",
     "iopub.status.busy": "2025-02-10T14:36:03.630052Z",
     "iopub.status.idle": "2025-02-10T14:36:08.774631Z",
     "shell.execute_reply": "2025-02-10T14:36:08.774303Z",
     "shell.execute_reply.started": "2025-02-10T14:36:03.630169Z"
    }
   },
   "outputs": [],
   "source": [
    "\n",
    "\n",
    "# Load metadata CSV\n",
    "metadata_csv_url = \"https://docs.google.com/spreadsheets/d/e/2PACX-1vTSspBYGhjx-UJb-lIcy8Dmxjj3c1EuBqX_IWhi2aT1MvybZ_RAn8eq7gXfjzQ_NEfEq2hCZY5y-sHx/pub?output=csv\"\n",
    "df = pd.read_csv(metadata_csv_url).fillna('')\n",
    "crim_metadata_dict_list = df.to_dict(orient='records')\n",
    "\n",
    "# logging\n",
    "logging.basicConfig(level=logging.INFO, format='%(asctime)s - %(levelname)s - %(message)s')\n"
   ]
  },
  {
   "cell_type": "code",
   "execution_count": 3,
   "id": "3d01478f-1d7e-4b7f-99b8-9a16abbaf9d3",
   "metadata": {
    "execution": {
     "iopub.execute_input": "2025-02-10T14:36:08.775084Z",
     "iopub.status.busy": "2025-02-10T14:36:08.775015Z",
     "iopub.status.idle": "2025-02-10T14:36:08.776803Z",
     "shell.execute_reply": "2025-02-10T14:36:08.776536Z",
     "shell.execute_reply.started": "2025-02-10T14:36:08.775077Z"
    }
   },
   "outputs": [],
   "source": [
    "# crim_metadata_dict_list[55:57]"
   ]
  },
  {
   "cell_type": "markdown",
   "id": "878378c1-43ec-457d-8df3-58a57b6d0ebf",
   "metadata": {},
   "source": [
    "### Set Up the Updater with Source Folder, Output Folder, and Metadata List\n",
    "\n",
    "This should look something like this:\n",
    "\n",
    "```python\n",
    "updater = MEI_Metadata_Updater(\n",
    "    source_folder=\"MEI\",\n",
    "    output_dir=\"MEI_Updates\",\n",
    "    metadata_dict_list=crim_metadata_dict_list\n",
    ")\n",
    "```"
   ]
  },
  {
   "cell_type": "code",
   "execution_count": 4,
   "id": "4d2c48fa-54ae-48bd-a158-3aa4165f12f1",
   "metadata": {
    "execution": {
     "iopub.execute_input": "2025-02-10T14:36:08.777934Z",
     "iopub.status.busy": "2025-02-10T14:36:08.777856Z",
     "iopub.status.idle": "2025-02-10T14:36:08.779435Z",
     "shell.execute_reply": "2025-02-10T14:36:08.779220Z",
     "shell.execute_reply.started": "2025-02-10T14:36:08.777927Z"
    }
   },
   "outputs": [],
   "source": [
    "\n",
    "updater = MEI_Metadata_Updater(\n",
    "    source_folder=\"MEI testing\",\n",
    "    output_dir=\"MEI_Updates_2\",\n",
    "    metadata_dict_list=crim_metadata_dict_list\n",
    ")"
   ]
  },
  {
   "cell_type": "markdown",
   "id": "51ed35d8-1a08-4ad8-bb13-cea547cb9cb0",
   "metadata": {},
   "source": [
    "### Process the Files\n",
    "\n",
    "Here we declare the results and run the updater, passing in the metadata dictionary list:\n",
    "\n",
    "```python\n",
    "results = updater.process_files(crim_metadata_dict_list)\n",
    "```"
   ]
  },
  {
   "cell_type": "code",
   "execution_count": 5,
   "id": "64c69f68-4551-4b97-a383-0d7f1269c829",
   "metadata": {
    "execution": {
     "iopub.execute_input": "2025-02-10T14:36:08.779887Z",
     "iopub.status.busy": "2025-02-10T14:36:08.779786Z",
     "iopub.status.idle": "2025-02-10T14:36:08.852370Z",
     "shell.execute_reply": "2025-02-10T14:36:08.852110Z",
     "shell.execute_reply.started": "2025-02-10T14:36:08.779880Z"
    }
   },
   "outputs": [
    {
     "name": "stderr",
     "output_type": "stream",
     "text": [
      "2025-02-10 15:36:08,817 - INFO - Updating metadata for file: MEI testing/CRIM_Mass_0001_2.mei\n",
      "2025-02-10 15:36:08,819 - INFO - Metadata updates applied successfully\n",
      "2025-02-10 15:36:08,850 - INFO - File saved successfully: MEI_Updates_2/CRIM_Mass_0001_2_rev.mei\n"
     ]
    },
    {
     "name": "stdout",
     "output_type": "stream",
     "text": [
      "Contents of MEI testing:\n",
      "- MEI testing/CRIM_Mass_0001_2.mei\n",
      "- MEI testing/.ipynb_checkpoints\n",
      "Found 1 .mei files in total\n"
     ]
    }
   ],
   "source": [
    "# Process the files\n",
    "results = updater.process_files(crim_metadata_dict_list)\n",
    "\n",
    "# Optional:  Print report of results\n",
    "# for file_path, status in results.items():\n",
    "#     print(f\"Processed {status}: {file_path}\")"
   ]
  },
  {
   "cell_type": "code",
   "execution_count": null,
   "id": "fe31d123-a771-4d2c-b2cf-fe7d8aaf89f6",
   "metadata": {},
   "outputs": [],
   "source": []
  }
 ],
 "metadata": {
  "kernelspec": {
   "display_name": "Python 3 (ipykernel)",
   "language": "python",
   "name": "python3"
  },
  "language_info": {
   "codemirror_mode": {
    "name": "ipython",
    "version": 3
   },
   "file_extension": ".py",
   "mimetype": "text/x-python",
   "name": "python",
   "nbconvert_exporter": "python",
   "pygments_lexer": "ipython3",
   "version": "3.11.7"
  }
 },
 "nbformat": 4,
 "nbformat_minor": 5
}
